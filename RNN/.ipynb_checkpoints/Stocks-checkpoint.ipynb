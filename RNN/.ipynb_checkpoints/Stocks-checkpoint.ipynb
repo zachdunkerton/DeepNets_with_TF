{
 "cells": [
  {
   "cell_type": "code",
   "execution_count": 2,
   "metadata": {},
   "outputs": [],
   "source": [
    "import pandas as pd\n",
    "%matplotlib inline\n",
    "import matplotlib\n",
    "import numpy as np\n",
    "import matplotlib.pyplot as plt\n",
    "import tensorflow as tf"
   ]
  },
  {
   "cell_type": "code",
   "execution_count": 3,
   "metadata": {},
   "outputs": [],
   "source": [
    "data = pd.read_csv(\"C:/Users/zdunkerton/Documents/GitHubData/Stocks/aapl.us.txt\")\n",
    "data = data.drop('OpenInt', 1)"
   ]
  },
  {
   "cell_type": "code",
   "execution_count": 4,
   "metadata": {},
   "outputs": [
    {
     "data": {
      "image/png": "[encoded data removed]",
      "text/plain": [
       "<matplotlib.figure.Figure at 0x73e8955198>"
      ]
     },
     "metadata": {},
     "output_type": "display_data"
    }
   ],
   "source": [
    "plt.plot(data[\"Date\"], data[\"Open\"])\n",
    "plt.tick_params(axis='x',which='both',bottom='off',top='off',labelbottom='off') \n",
    "plt.show()"
   ]
  },
  {
   "cell_type": "code",
   "execution_count": 5,
   "metadata": {},
   "outputs": [],
   "source": [
    "tf.reset_default_graph()\n",
    "n_steps = 50\n",
    "n_inputs = 1\n",
    "n_neurons = 100\n",
    "n_outputs = 1\n",
    "\n",
    "\n",
    "learning_rate = 0.001\n",
    "\n",
    "X = tf.placeholder(tf.float32, [None, n_steps, n_inputs])\n",
    "y = tf.placeholder(tf.float32, [None, n_steps, n_inputs])\n",
    "\n",
    "cell = tf.contrib.rnn.OutputProjectionWrapper(\n",
    "    tf.contrib.rnn.BasicRNNCell(num_units = n_neurons, activation=tf.nn.relu),\n",
    "    output_size = n_outputs\n",
    ")\n",
    "outputs, states = tf.nn.dynamic_rnn(cell, X, dtype=tf.float32)\n",
    "\n",
    "loss = tf.reduce_mean(tf.square(outputs-y))\n",
    "optimizer = tf.train.AdamOptimizer(learning_rate=learning_rate)\n",
    "training_op = optimizer.minimize(loss)\n",
    "    \n",
    "init = tf.global_variables_initializer()\n",
    "mse_summary = tf.summary.scalar('Loss', loss)\n",
    "logdir = \"./\"\n",
    "file_writer = tf.summary.FileWriter(logdir, tf.get_default_graph())"
   ]
  },
  {
   "cell_type": "code",
   "execution_count": 6,
   "metadata": {},
   "outputs": [
    {
     "name": "stderr",
     "output_type": "stream",
     "text": [
      "c:\\users\\zdunkerton\\appdata\\local\\programs\\python\\python36\\lib\\site-packages\\ipykernel_launcher.py:10: FutureWarning: reshape is deprecated and will raise in a subsequent release. Please use .values.reshape(...) instead\n",
      "  # Remove the CWD from sys.path while we load stuff.\n"
     ]
    },
    {
     "name": "stdout",
     "output_type": "stream",
     "text": [
      "0 \tMSE: 8.435266\n",
      "100 \tMSE: 8.7793045\n"
     ]
    }
   ],
   "source": [
    "batch_size=50\n",
    "n_steps = 50\n",
    "n_inputs = 1\n",
    "with tf.Session() as sess:\n",
    "    init.run()\n",
    "    for iteration in range(8000//batch_size):\n",
    "        i = iteration*batch_size\n",
    "        j = (iteration+1)*batch_size\n",
    "        X_batch, y_batch = np.array(range(i,j)), data.iloc[i:j,1]\n",
    "        X_batch, y_batch = X_batch.reshape((-1, n_steps, n_inputs)), y_batch.reshape((-1, n_steps, n_inputs))\n",
    "        sess.run(training_op, feed_dict={X:X_batch, y:y_batch})\n",
    "        if iteration%100 == 0:\n",
    "            mse = loss.eval(feed_dict={X:X_batch, y:y_batch})\n",
    "            print(iteration, \"\\tMSE:\", mse)\n",
    "        if iteration%10 == 0:\n",
    "            summary_str = mse_summary.eval(feed_dict={X:X_batch, y:y_batch})\n",
    "            step = iteration*batch_size \n",
    "            file_writer.add_summary(summary_str, step)\n",
    "    file_writer.close()\n",
    "    new_data = np.array(data.iloc[8000:, 1])\n",
    "    y_pred = []\n",
    "    y_pred = np.array(y_pred, dtype='float32')\n",
    "    for iteration in range(len(new_data)//batch_size):\n",
    "        i = (iteration*batch_size)+8000\n",
    "        j = j+batch_size\n",
    "        X_new = np.array(range(i,j))\n",
    "        X_new = X_new.reshape((-1, n_steps, n_inputs))\n",
    "        y_new = sess.run(outputs, feed_dict={X:X_new})\n",
    "        y_pred = np.append(y_pred,y_new)"
   ]
  },
  {
   "cell_type": "code",
   "execution_count": 7,
   "metadata": {},
   "outputs": [
    {
     "data": {
      "image/png": "[encoded data removed]",
      "text/plain": [
       "<matplotlib.figure.Figure at 0x73eea65358>"
      ]
     },
     "metadata": {},
     "output_type": "display_data"
    }
   ],
   "source": [
    "new_data = data.iloc[8000:,1]\n",
    "rng = range(10)\n",
    "fig = plt.figure()\n",
    "ax1 = fig.add_subplot(111)\n",
    "\n",
    "ax1.scatter(rng, y_pred[:10], s=10, c='b', marker=\"s\", label='predicted')\n",
    "ax1.scatter(rng,new_data[:10], s=10, c='r', marker=\"o\", label='actual')\n",
    "plt.legend(loc='upper left');\n",
    "plt.show()"
   ]
  },
  {
   "cell_type": "markdown",
   "metadata": {},
   "source": [
    "To run use tensorboard, run \"python  -m tensorboard.main --logdir tf_logs/"
   ]
  },
  {
   "cell_type": "code",
   "execution_count": null,
   "metadata": {},
   "outputs": [],
   "source": []
  }
 ],
 "metadata": {
  "kernelspec": {
   "display_name": "Python 3",
   "language": "python",
   "name": "python3"
  },
  "language_info": {
   "codemirror_mode": {
    "name": "ipython",
    "version": 3
   },
   "file_extension": ".py",
   "mimetype": "text/x-python",
   "name": "python",
   "nbconvert_exporter": "python",
   "pygments_lexer": "ipython3",
   "version": "3.6.3"
  }
 },
 "nbformat": 4,
 "nbformat_minor": 2
}
