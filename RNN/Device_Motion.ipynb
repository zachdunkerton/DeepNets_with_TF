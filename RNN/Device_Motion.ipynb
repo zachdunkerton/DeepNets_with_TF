{
 "cells": [
  {
   "cell_type": "code",
   "execution_count": 3,
   "metadata": {},
   "outputs": [],
   "source": [
    "import numpy as np\n",
    "import pandas as pd\n",
    "import os\n",
    "from sklearn.model_selection import train_test_split\n",
    "import tensorflow as tf"
   ]
  },
  {
   "cell_type": "code",
   "execution_count": 42,
   "metadata": {},
   "outputs": [],
   "source": [
    "folder = \"C:/users/zdunkerton/documents/githubdata/A_DeviceMotion_data/A_DeviceMotion_data\"\n",
    "label = -1\n",
    "the_data = []\n",
    "labels = []\n",
    "for dir in os.listdir(folder):\n",
    "    for file in os.listdir(os.path.join(folder,dir)):\n",
    "        data = pd.read_csv(os.path.join(folder,dir, file))\n",
    "        data = data.iloc[:,1:13].values\n",
    "        num_steps = 100\n",
    "        for iteration in range(len(data)//num_steps):\n",
    "            x = data[(iteration*num_steps):((iteration+1)*num_steps)]\n",
    "            the_data.append(x)\n",
    "            num = int(file.split(\"_\")[1].split(\".\")[0])-1\n",
    "            labels.append(num)\n",
    "the_data = np.array(the_data)\n",
    "X_train, X_test, y_train, y_test = train_test_split(the_data, labels, test_size=0.2, random_state=42)"
   ]
  },
  {
   "cell_type": "code",
   "execution_count": 48,
   "metadata": {},
   "outputs": [
    {
     "data": {
      "text/plain": [
       "647"
      ]
     },
     "execution_count": 48,
     "metadata": {},
     "output_type": "execute_result"
    }
   ],
   "source": [
    "count = 0\n",
    "for i in labels:\n",
    "    if i == 15:\n",
    "        count +=1\n",
    "count"
   ]
  },
  {
   "cell_type": "code",
   "execution_count": 35,
   "metadata": {},
   "outputs": [],
   "source": [
    "folder = \"C:/users/zdunkerton/documents/githubdata/A_DeviceMotion_data/A_DeviceMotion_data\"\n",
    "label = -1\n",
    "the_data = []\n",
    "labels = []\n",
    "for dir in os.listdir(folder):\n",
    "    if dir.split(\"_\")[0]==\"dws\":\n",
    "        label = 0\n",
    "    elif dir.split(\"_\")[0]==\"jog\":\n",
    "        label = 1\n",
    "    elif dir.split(\"_\")[0]==\"sit\":\n",
    "        label = 2\n",
    "    elif dir.split(\"_\")[0]==\"std\":\n",
    "        label = 3\n",
    "    elif dir.split(\"_\")[0]==\"ups\":\n",
    "        label = 4\n",
    "    elif dir.split(\"_\")[0]==\"wlk\":\n",
    "        label = 5\n",
    "    for file in os.listdir(os.path.join(folder,dir)):\n",
    "        data = pd.read_csv(os.path.join(folder,dir, file))\n",
    "        data = data.iloc[:,1:13].values\n",
    "        num_steps = 100\n",
    "        for iteration in range(len(data)//num_steps):\n",
    "            x = data[(iteration*num_steps):((iteration+1)*num_steps)]\n",
    "            the_data.append(x)\n",
    "            labels.append(label)\n",
    "the_data = np.array(the_data)\n",
    "X_train, X_test, y_train, y_test = train_test_split(the_data, labels, test_size=0.2, random_state=42)"
   ]
  },
  {
   "cell_type": "code",
   "execution_count": 49,
   "metadata": {},
   "outputs": [],
   "source": [
    "def next_batch(batch_size, index):\n",
    "    return X_train[index:(index+batch_size)], y_train[index:(index+batch_size)]"
   ]
  },
  {
   "cell_type": "code",
   "execution_count": 52,
   "metadata": {},
   "outputs": [],
   "source": [
    "tf.reset_default_graph()\n",
    "\n",
    "n_steps = 100\n",
    "n_inputs = 12\n",
    "n_neurons = 100\n",
    "n_outputs = 24\n",
    "n_layers = 2\n",
    "\n",
    "learning_rate = 0.001\n",
    "\n",
    "X = tf.placeholder(tf.float32, [None, n_steps, n_inputs])\n",
    "y = tf.placeholder(tf.int32, [None])\n",
    "\n",
    "lstm_cells = [tf.contrib.rnn.BasicLSTMCell(num_units=n_neurons)\n",
    "              for layer in range(n_layers)]\n",
    "multi_cell = tf.contrib.rnn.MultiRNNCell(lstm_cells)\n",
    "outputs, states = tf.nn.dynamic_rnn(multi_cell, X, dtype=tf.float32)\n",
    "top_layer_h_state = states[-1][1]\n",
    "logits = tf.layers.dense(top_layer_h_state, n_outputs, name=\"softmax\")\n",
    "xentropy = tf.nn.sparse_softmax_cross_entropy_with_logits(labels=y, logits=logits)\n",
    "loss = tf.reduce_mean(xentropy, name=\"loss\")\n",
    "optimizer = tf.train.AdamOptimizer(learning_rate=learning_rate)\n",
    "training_op = optimizer.minimize(loss)\n",
    "correct = tf.nn.in_top_k(logits, y, 1)\n",
    "accuracy = tf.reduce_mean(tf.cast(correct, tf.float32))\n",
    "\n",
    "init = tf.global_variables_initializer()"
   ]
  },
  {
   "cell_type": "code",
   "execution_count": 53,
   "metadata": {},
   "outputs": [
    {
     "name": "stdout",
     "output_type": "stream",
     "text": [
      "0 Train accuracy: 0.26666668 Test accuracy: 0.2672877\n",
      "1 Train accuracy: 0.36666667 Test accuracy: 0.35471156\n",
      "2 Train accuracy: 0.46666667 Test accuracy: 0.44858474\n",
      "3 Train accuracy: 0.5 Test accuracy: 0.4510928\n",
      "4 Train accuracy: 0.54 Test accuracy: 0.57398784\n",
      "5 Train accuracy: 0.56 Test accuracy: 0.58760303\n",
      "6 Train accuracy: 0.43333334 Test accuracy: 0.44500178\n",
      "7 Train accuracy: 0.58 Test accuracy: 0.58760303\n",
      "8 Train accuracy: 0.48 Test accuracy: 0.48835543\n",
      "9 Train accuracy: 0.61333334 Test accuracy: 0.6270154\n",
      "10 Train accuracy: 0.62666667 Test accuracy: 0.692225\n",
      "11 Train accuracy: 0.6333333 Test accuracy: 0.6388391\n",
      "12 Train accuracy: 0.66 Test accuracy: 0.7065568\n",
      "13 Train accuracy: 0.6666667 Test accuracy: 0.6979577\n",
      "14 Train accuracy: 0.74 Test accuracy: 0.72877103\n",
      "15 Train accuracy: 0.76666665 Test accuracy: 0.7362952\n",
      "16 Train accuracy: 0.7133333 Test accuracy: 0.738445\n",
      "17 Train accuracy: 0.74666667 Test accuracy: 0.7305625\n",
      "18 Train accuracy: 0.7866667 Test accuracy: 0.778574\n",
      "19 Train accuracy: 0.7733333 Test accuracy: 0.7714081\n"
     ]
    }
   ],
   "source": [
    "n_epochs = 20\n",
    "batch_size = 150\n",
    "\n",
    "with tf.Session() as sess:\n",
    "    init.run()\n",
    "    for epoch in range(n_epochs):\n",
    "        for iteration in range(X_train.shape[0] // batch_size):\n",
    "            X_batch, y_batch = next_batch(batch_size, iteration*batch_size)\n",
    "            #X_batch = X_batch.reshape((-1, n_steps, n_inputs))\n",
    "            sess.run(training_op, feed_dict={X: X_batch, y: y_batch})\n",
    "        acc_train = accuracy.eval(feed_dict={X: X_batch, y: y_batch})\n",
    "        acc_test = accuracy.eval(feed_dict={X: X_test, y: y_test})\n",
    "        print(epoch, \"Train accuracy:\", acc_train, \"Test accuracy:\", acc_test)"
   ]
  },
  {
   "cell_type": "code",
   "execution_count": null,
   "metadata": {},
   "outputs": [],
   "source": []
  }
 ],
 "metadata": {
  "kernelspec": {
   "display_name": "Python 3",
   "language": "python",
   "name": "python3"
  },
  "language_info": {
   "codemirror_mode": {
    "name": "ipython",
    "version": 3
   },
   "file_extension": ".py",
   "mimetype": "text/x-python",
   "name": "python",
   "nbconvert_exporter": "python",
   "pygments_lexer": "ipython3",
   "version": "3.6.3"
  }
 },
 "nbformat": 4,
 "nbformat_minor": 2
}
