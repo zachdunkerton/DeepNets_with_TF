{
 "cells": [
  {
   "cell_type": "code",
   "execution_count": 1,
   "metadata": {},
   "outputs": [],
   "source": [
    "import pandas as pd\n",
    "%matplotlib inline\n",
    "import matplotlib\n",
    "import numpy as np\n",
    "import matplotlib.pyplot as plt\n",
    "import tensorflow as tf"
   ]
  },
  {
   "cell_type": "code",
   "execution_count": 3,
   "metadata": {},
   "outputs": [],
   "source": [
    "data = pd.read_csv(\"C:/Users/zdunkerton/Documents/GitHubData/Stocks/aapl.us.txt\")\n",
    "data = data.drop('OpenInt', 1)"
   ]
  },
  {
   "cell_type": "code",
   "execution_count": 16,
   "metadata": {},
   "outputs": [
    {
     "data": {
      "image/png": "[encoded data removed]",
      "text/plain": [
       "<matplotlib.figure.Figure at 0xb52c8ae780>"
      ]
     },
     "metadata": {},
     "output_type": "display_data"
    }
   ],
   "source": [
    "plt.plot(data[\"Date\"], data[\"Open\"])\n",
    "plt.tick_params(axis='x',which='both',bottom='off',top='off',labelbottom='off') \n",
    "plt.show()"
   ]
  },
  {
   "cell_type": "code",
   "execution_count": 126,
   "metadata": {},
   "outputs": [],
   "source": [
    "tf.reset_default_graph()\n",
    "n_steps = 50\n",
    "n_inputs = 1\n",
    "n_neurons = 100\n",
    "n_outputs = 1\n",
    "\n",
    "\n",
    "learning_rate = 0.001\n",
    "\n",
    "X = tf.placeholder(tf.float32, [None, n_steps, n_inputs])\n",
    "y = tf.placeholder(tf.float32, [None, n_steps, n_inputs])\n",
    "\n",
    "cell = tf.contrib.rnn.OutputProjectionWrapper(\n",
    "    tf.contrib.rnn.BasicRNNCell(num_units = n_neurons, activation=tf.nn.relu),\n",
    "    output_size = n_outputs)\n",
    "\n",
    "outputs, states = tf.nn.dynamic_rnn(cell, X, dtype=tf.float32)\n",
    "\n",
    "loss = tf.reduce_mean(tf.square(outputs-y))\n",
    "optimizer = tf.train.AdamOptimizer(learning_rate=learning_rate)\n",
    "training_op = optimizer.minimize(loss)\n",
    "    \n",
    "init = tf.global_variables_initializer()\n",
    "mse_summary = tf.summary.scalar('Loss', loss)\n",
    "logdir = \"./tf_logs/\"\n",
    "file_writer = tf.summary.FileWriter(logdir, tf.get_default_graph())"
   ]
  },
  {
   "cell_type": "code",
   "execution_count": 127,
   "metadata": {},
   "outputs": [],
   "source": [
    "def next_batch(batch_size, n_steps):\n",
    "    x = []\n",
    "    y = []\n",
    "    count = 0\n",
    "    while count<batch_size:\n",
    "        rnd = np.random.randint(0,len(data)-n_steps,n_steps)\n",
    "        values = []\n",
    "        for num in rnd:\n",
    "            values.append(data.iloc[num, 1])\n",
    "        x.append(rnd)\n",
    "        y.append(np.array(values))\n",
    "        count+=1\n",
    "    return np.array(x),np.array(y)"
   ]
  },
  {
   "cell_type": "code",
   "execution_count": 147,
   "metadata": {
    "scrolled": false
   },
   "outputs": [
    {
     "name": "stdout",
     "output_type": "stream",
     "text": [
      "0 \tMSE: 55697.543\n",
      "100 \tMSE: 827.98157\n",
      "200 \tMSE: 563.2824\n",
      "300 \tMSE: 472.6262\n",
      "400 \tMSE: 424.23166\n",
      "500 \tMSE: 386.52744\n",
      "600 \tMSE: 372.14218\n",
      "700 \tMSE: 268.54956\n",
      "800 \tMSE: 260.0769\n",
      "900 \tMSE: 255.03172\n",
      "1000 \tMSE: 242.0038\n",
      "1100 \tMSE: 263.82913\n",
      "1200 \tMSE: 219.42834\n",
      "1300 \tMSE: 227.4292\n",
      "1400 \tMSE: 197.895\n"
     ]
    }
   ],
   "source": [
    "batch_size=50\n",
    "n_steps = 50\n",
    "n_inputs = 1\n",
    "n_iterations = 1500\n",
    "with tf.Session() as sess:\n",
    "    init.run()\n",
    "    for iteration in range(n_iterations):\n",
    "        i = iteration*batch_size\n",
    "        j = (iteration+1)*batch_size\n",
    "        X_batch, y_batch = next_batch(batch_size, n_steps)\n",
    "        X_batch, y_batch = X_batch.reshape((-1, n_steps, n_inputs)), y_batch.reshape((-1, n_steps, n_inputs))\n",
    "        sess.run(training_op, feed_dict={X:X_batch, y:y_batch})\n",
    "        if iteration%100 == 0:\n",
    "            mse = loss.eval(feed_dict={X:X_batch, y:y_batch})\n",
    "            print(iteration, \"\\tMSE:\", mse)\n",
    "        if iteration%10 == 0:\n",
    "            summary_str = mse_summary.eval(feed_dict={X:X_batch, y:y_batch})\n",
    "            step = iteration*batch_size \n",
    "            file_writer.add_summary(summary_str, step)\n",
    "    file_writer.close()\n",
    "    X_new = np.arange(len(data)-n_steps,len(data),dtype = 'int32')\n",
    "    X_new = X_new.reshape((-1, n_steps, n_inputs))\n",
    "    y_new = sess.run(outputs, feed_dict={X:X_new})\n",
    "    y_pred = np.mean(y_new)"
   ]
  },
  {
   "cell_type": "code",
   "execution_count": 162,
   "metadata": {},
   "outputs": [
    {
     "name": "stdout",
     "output_type": "stream",
     "text": [
      "50\n",
      "1\n"
     ]
    },
    {
     "data": {
      "image/png": "[encoded data removed]",
      "text/plain": [
       "<matplotlib.figure.Figure at 0xc53c776da0>"
      ]
     },
     "metadata": {},
     "output_type": "display_data"
    }
   ],
   "source": [
    "new_data = list(data.iloc[len(data)-n_steps:len(data),1])\n",
    "rng = range(n_steps)\n",
    "fig = plt.figure()\n",
    "ax1 = fig.add_subplot(111)\n",
    "print(len(list(new_data)))\n",
    "print(len(list(y_new)))\n",
    "ax1.scatter(rng,list(y_new), s=10, c='b', marker=\"s\", label='predicted')\n",
    "ax1.scatter(rng,new_data, s=10, c='r', marker=\"o\", label='actual')\n",
    "plt.show()"
   ]
  },
  {
   "cell_type": "markdown",
   "metadata": {},
   "source": [
    "To run use tensorboard, run \"python  -m tensorboard.main --logdir tf_logs/"
   ]
  },
  {
   "cell_type": "code",
   "execution_count": null,
   "metadata": {},
   "outputs": [],
   "source": []
  }
 ],
 "metadata": {
  "kernelspec": {
   "display_name": "Python 3",
   "language": "python",
   "name": "python3"
  },
  "language_info": {
   "codemirror_mode": {
    "name": "ipython",
    "version": 3
   },
   "file_extension": ".py",
   "mimetype": "text/x-python",
   "name": "python",
   "nbconvert_exporter": "python",
   "pygments_lexer": "ipython3",
   "version": "3.6.3"
  }
 },
 "nbformat": 4,
 "nbformat_minor": 2
}
