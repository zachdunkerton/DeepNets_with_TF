{
 "cells": [
  {
   "cell_type": "code",
   "execution_count": 46,
   "metadata": {},
   "outputs": [
    {
     "name": "stdout",
     "output_type": "stream",
     "text": [
      "(1,)es processed: 10000%   \n"
     ]
    }
   ],
   "source": [
    "import os\n",
    "import matplotlib.image as mpimg\n",
    "import numpy as np\n",
    "import _pickle as pickle\n",
    "import pandas as pd\n",
    "    \n",
    "counter = 0\n",
    "mylist = []\n",
    "\n",
    "for root, dirs, files in os.walk(\"C:/Users/zdunkerton/Documents/tiny-imagenet-200/test\"):\n",
    "   for name in files:\n",
    "      if name.endswith(\"JPEG\"):\n",
    "            counter =counter +1\n",
    "            sys.stdout.write(\"Images processed: %d%%   \\r\" % (counter) )\n",
    "            sys.stdout.flush()\n",
    "            mylist.append(mpimg.imread(os.path.join(root, name)))\n",
    "            \n",
    "dataframe = pd.DataFrame(mylist)\n",
    "print(dataframe.iloc[1])\n",
    "with open(\"C:/Users/zdunkerton/Documents/tiny-imagenet-200/train.pickle\", 'wb') as f:\n",
    "    pickle.dump(dataframe, f)\n",
    "\n"
   ]
  },
  {
   "cell_type": "code",
   "execution_count": null,
   "metadata": {},
   "outputs": [],
   "source": []
  }
 ],
 "metadata": {
  "kernelspec": {
   "display_name": "Python 3",
   "language": "python",
   "name": "python3"
  },
  "language_info": {
   "codemirror_mode": {
    "name": "ipython",
    "version": 3
   },
   "file_extension": ".py",
   "mimetype": "text/x-python",
   "name": "python",
   "nbconvert_exporter": "python",
   "pygments_lexer": "ipython3",
   "version": "3.6.3"
  }
 },
 "nbformat": 4,
 "nbformat_minor": 2
}
