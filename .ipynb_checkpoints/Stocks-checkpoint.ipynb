{
 "cells": [
  {
   "cell_type": "code",
   "execution_count": 1,
   "metadata": {},
   "outputs": [],
   "source": [
    "import pandas as pd\n",
    "%matplotlib inline\n",
    "import matplotlib\n",
    "import numpy as np\n",
    "import matplotlib.pyplot as plt\n",
    "import tensorflow as tf"
   ]
  },
  {
   "cell_type": "code",
   "execution_count": 2,
   "metadata": {},
   "outputs": [],
   "source": [
    "data = pd.read_csv(\"C:/Users/zdunkerton/Documents/GitHubData/Stocks/aapl.us.txt\")\n",
    "data = data.drop('OpenInt', 1)"
   ]
  },
  {
   "cell_type": "code",
   "execution_count": 3,
   "metadata": {},
   "outputs": [
    {
     "data": {
      "image/png": "[encoded data removed]",
      "text/plain": [
       "<matplotlib.figure.Figure at 0x2d8e3fbdd8>"
      ]
     },
     "metadata": {},
     "output_type": "display_data"
    }
   ],
   "source": [
    "plt.plot(data[\"Date\"], data[\"Open\"])\n",
    "plt.tick_params(axis='x',which='both',bottom='off',top='off',labelbottom='off') \n",
    "plt.show()"
   ]
  },
  {
   "cell_type": "code",
   "execution_count": 100,
   "metadata": {},
   "outputs": [],
   "source": [
    "tf.reset_default_graph()\n",
    "n_steps = 50\n",
    "n_inputs = 1\n",
    "n_neurons = 100\n",
    "n_outputs = 1\n",
    "\n",
    "\n",
    "learning_rate = 0.001\n",
    "\n",
    "X = tf.placeholder(tf.float32, [None, n_steps, n_inputs])\n",
    "y = tf.placeholder(tf.float32, [None, n_steps, n_inputs])\n",
    "\n",
    "cell = tf.contrib.rnn.OutputProjectionWrapper(\n",
    "    tf.contrib.rnn.BasicRNNCell(num_units = n_neurons, activation=tf.nn.relu),\n",
    "    output_size = n_outputs\n",
    ")\n",
    "outputs, states = tf.nn.dynamic_rnn(cell, X, dtype=tf.float32)\n",
    "\n",
    "loss = tf.reduce_mean(tf.square(outputs-y))\n",
    "optimizer = tf.train.AdamOptimizer(learning_rate=learning_rate)\n",
    "training_op = optimizer.minimize(loss)\n",
    "    \n",
    "init = tf.global_variables_initializer()\n",
    "mse_summary = tf.summary.scalar('Loss', loss)\n",
    "logdir = \"./\"\n",
    "file_writer = tf.summary.FileWriter(logdir, tf.get_default_graph())"
   ]
  },
  {
   "cell_type": "code",
   "execution_count": 101,
   "metadata": {},
   "outputs": [
    {
     "name": "stderr",
     "output_type": "stream",
     "text": [
      "c:\\users\\zdunkerton\\appdata\\local\\programs\\python\\python36\\lib\\site-packages\\ipykernel_launcher.py:10: FutureWarning: reshape is deprecated and will raise in a subsequent release. Please use .values.reshape(...) instead\n",
      "  # Remove the CWD from sys.path while we load stuff.\n"
     ]
    },
    {
     "name": "stdout",
     "output_type": "stream",
     "text": [
      "0 \tMSE: 6.579569\n",
      "100 \tMSE: 124.56697\n"
     ]
    }
   ],
   "source": [
    "batch_size=50\n",
    "n_steps = 50\n",
    "n_inputs = 1\n",
    "with tf.Session() as sess:\n",
    "    init.run()\n",
    "    for iteration in range(8000//batch_size):\n",
    "        i = iteration*batch_size\n",
    "        j = (iteration+1)*batch_size\n",
    "        X_batch, y_batch = np.array(range(i,j)), data.iloc[i:j,1]\n",
    "        X_batch, y_batch = X_batch.reshape((-1, n_steps, n_inputs)), y_batch.reshape((-1, n_steps, n_inputs))\n",
    "        sess.run(training_op, feed_dict={X:X_batch, y:y_batch})\n",
    "        if iteration%100 == 0:\n",
    "            mse = loss.eval(feed_dict={X:X_batch, y:y_batch})\n",
    "            print(iteration, \"\\tMSE:\", mse)\n",
    "        if iteration%10 == 0:\n",
    "            summary_str = mse_summary.eval(feed_dict={X:X_batch, y:y_batch})\n",
    "            step = iteration*batch_size \n",
    "            file_writer.add_summary(summary_str, step)\n",
    "    file_writer.close()\n",
    "    new_data = np.array(data.iloc[8000:, 1])\n",
    "    y_pred = []\n",
    "    y_pred = np.array(y_pred, dtype='float32')\n",
    "    for iteration in range(len(new_data)//batch_size):\n",
    "        i = (iteration*batch_size)+8000\n",
    "        j = j+batch_size\n",
    "        X_new = np.array(range(i,j))\n",
    "        X_new = X_new.reshape((-1, n_steps, n_inputs))\n",
    "        y_new = sess.run(outputs, feed_dict={X:X_new})\n",
    "        y_pred = np.append(y_pred,y_new)"
   ]
  },
  {
   "cell_type": "code",
   "execution_count": 89,
   "metadata": {},
   "outputs": [
    {
     "data": {
      "text/plain": [
       "8000    95.429\n",
       "8001    96.657\n",
       "8002    96.432\n",
       "8003    95.926\n",
       "8004    95.955\n",
       "8005    96.110\n",
       "8006    94.777\n",
       "8007    95.265\n",
       "8008    93.929\n",
       "8009    94.095\n",
       "Name: Open, dtype: float64"
      ]
     },
     "execution_count": 89,
     "metadata": {},
     "output_type": "execute_result"
    }
   ],
   "source": [
    "new_data = data.iloc[8000:,1]\n",
    "new_data[:10]"
   ]
  },
  {
   "cell_type": "code",
   "execution_count": 92,
   "metadata": {},
   "outputs": [
    {
     "data": {
      "image/png": "[encoded data removed]",
      "text/plain": [
       "<matplotlib.figure.Figure at 0x2d948f2860>"
      ]
     },
     "metadata": {},
     "output_type": "display_data"
    }
   ],
   "source": [
    "rng = range(5)\n",
    "fig = plt.figure()\n",
    "ax1 = fig.add_subplot(111)\n",
    "\n",
    "ax1.scatter(rng, y_pred[:5], s=10, c='b', marker=\"s\", label='predicted')\n",
    "ax1.scatter(rng,new_data[:5], s=10, c='r', marker=\"o\", label='actual')\n",
    "plt.legend(loc='upper left');\n",
    "plt.show()"
   ]
  },
  {
   "cell_type": "code",
   "execution_count": 79,
   "metadata": {},
   "outputs": [
    {
     "data": {
      "text/plain": [
       "array([108.70718 , 122.94535 , 115.08812 , 112.08115 , 105.8665  ,\n",
       "       104.420746, 109.53007 , 107.94334 , 109.076775, 106.87712 ,\n",
       "       108.84307 , 123.09882 , 115.23155 , 112.22134 , 105.99872 ,\n",
       "       104.551056, 109.66657 , 108.07831 , 109.21287 , 107.01069 ,\n",
       "       108.97888 , 123.25263 , 115.3757  , 112.36134 , 106.13087 ,\n",
       "       104.681435, 109.803474, 108.21302 , 109.34912 , 107.14386 ,\n",
       "       109.114716, 123.40606 , 115.51935 , 112.50142 , 106.26301 ,\n",
       "       104.81206 , 109.94026 , 108.34813 , 109.485245, 107.27717 ,\n",
       "       109.25066 , 123.559586, 115.66321 , 112.64129 , 106.39536 ,\n",
       "       104.94228 , 110.07712 , 108.4828  , 109.62168 , 107.410835,\n",
       "       109.38651 , 123.71329 , 115.806885, 112.78146 , 106.52768 ,\n",
       "       105.072784, 110.21397 , 108.61748 , 109.75779 , 107.5441  ,\n",
       "       109.52238 , 123.86695 , 115.95096 , 112.921326, 106.6598  ,\n",
       "       105.20317 , 110.35053 , 108.75207 , 109.89378 , 107.6773  ,\n",
       "       109.658226, 124.020836, 116.09441 , 113.061485, 106.79212 ,\n",
       "       105.33375 , 110.487495, 108.88691 , 110.03013 , 107.81096 ,\n",
       "       109.79409 , 124.17444 , 116.238205, 113.20135 , 106.924355,\n",
       "       105.46391 , 110.62411 , 109.02168 , 110.16617 , 107.94445 ,\n",
       "       109.93002 , 124.327995, 116.38207 , 113.34158 , 107.0566  ,\n",
       "       105.594406, 110.76102 , 109.1566  , 110.30236 , 108.07777 ,\n",
       "       110.065865, 124.48156 , 116.5259  , 113.48151 , 107.18866 ,\n",
       "       105.7249  , 110.897865, 109.29135 , 110.43861 , 108.21123 ,\n",
       "       110.20169 , 124.63528 , 116.66975 , 113.62165 , 107.32104 ,\n",
       "       105.85522 , 111.0346  , 109.42598 , 110.57475 , 108.34466 ,\n",
       "       110.337585, 124.78894 , 116.8133  , 113.76155 , 107.45327 ,\n",
       "       105.98549 , 111.17131 , 109.561066, 110.7109  , 108.47799 ,\n",
       "       110.473465, 124.94249 , 116.95707 , 113.90151 , 107.585594,\n",
       "       106.11604 , 111.30821 , 109.69573 , 110.84718 , 108.61146 ,\n",
       "       110.60926 , 125.09639 , 117.10113 , 114.041725, 107.717804,\n",
       "       106.24657 , 111.444984, 109.83056 , 110.983376, 108.744606,\n",
       "       110.74514 , 125.249825, 117.244675, 114.18168 , 107.85012 ,\n",
       "       106.37701 , 111.5819  , 109.96535 , 111.11963 , 108.87831 ,\n",
       "       110.88105 , 125.403336, 117.38852 , 114.321686, 107.982056,\n",
       "       106.50706 , 111.718544, 110.10004 , 111.25571 , 109.01153 ,\n",
       "       111.0169  , 125.5572  , 117.532394, 114.46159 , 108.11453 ,\n",
       "       106.6376  , 111.855415, 110.23486 , 111.39208 , 109.14485 ,\n",
       "       111.15268 , 125.71072 , 117.67591 , 114.60169 , 108.24676 ,\n",
       "       106.768135, 111.99197 , 110.36963 , 111.5282  , 109.27829 ,\n",
       "       111.28859 , 125.86448 , 117.819756, 114.7419  , 108.379   ,\n",
       "       106.898674, 112.128746, 110.50424 , 111.66407 , 109.41171 ,\n",
       "       111.424484, 126.018005, 117.96357 , 114.8818  , 108.511116,\n",
       "       107.02898 , 112.26542 , 110.63915 , 111.80053 , 109.54526 ,\n",
       "       111.56037 , 126.1719  , 118.10738 , 115.02166 , 108.6436  ,\n",
       "       107.15931 , 112.40233 , 110.77407 , 111.93688 , 109.67861 ,\n",
       "       111.69622 , 126.325584, 118.251076, 115.1619  , 108.77566 ,\n",
       "       107.28966 , 112.5393  , 110.90878 , 112.07312 , 109.81192 ,\n",
       "       111.83205 , 126.47899 , 118.39505 , 115.30184 , 108.90807 ,\n",
       "       107.42022 , 112.67598 , 111.043465, 112.209045, 109.94544 ,\n",
       "       111.96803 , 126.63262 , 118.538536, 115.441864, 109.039894,\n",
       "       107.55054 , 112.81319 , 111.17815 , 112.345566, 110.078835,\n",
       "       112.10385 , 126.7861  , 118.68232 , 115.58193 , 109.17232 ,\n",
       "       107.68093 , 112.94955 , 111.31316 , 112.48142 , 110.21228 ,\n",
       "       112.23975 , 126.93999 , 118.82611 , 115.72186 , 109.30461 ,\n",
       "       107.811295, 113.086464, 111.448006, 112.61751 , 110.34566 ,\n",
       "       112.37557 , 127.09362 , 118.96988 , 115.861946, 109.43683 ,\n",
       "       107.941666, 113.22316 , 111.5826  , 112.75393 , 110.478935,\n",
       "       112.51138 , 127.247314, 119.113594, 116.00211 , 109.56914 ,\n",
       "       108.07244 , 113.359924, 111.717415, 112.88999 , 110.612434,\n",
       "       112.64726 , 127.4008  , 119.25751 , 116.14198 , 109.7011  ,\n",
       "       108.202515, 113.4967  , 111.85227 , 113.02634 , 110.74579 ,\n",
       "       112.7831  , 127.554474, 119.401505, 116.281845, 109.83373 ,\n",
       "       108.33295 , 113.63344 , 111.98696 , 113.16269 , 110.87921 ,\n",
       "       112.919044, 127.70822 , 119.54495 , 116.422066, 109.96562 ,\n",
       "       108.463394, 113.770325, 112.12171 , 113.298706, 111.012596,\n",
       "       113.054726, 127.86194 , 119.688866, 116.562   , 110.09815 ,\n",
       "       108.59379 , 113.90709 , 112.25663 , 113.43487 , 111.145996,\n",
       "       113.19081 , 128.01555 , 119.83267 , 116.701965, 110.23007 ,\n",
       "       108.72438 , 114.044   , 112.39117 , 113.57121 , 111.27944 ,\n",
       "       113.32663 , 128.16927 , 119.97649 , 116.842094, 110.36236 ,\n",
       "       108.85462 , 114.18056 , 112.52627 , 113.7074  , 111.412735,\n",
       "       113.46249 , 128.3225  , 120.12007 , 116.98211 , 110.49491 ,\n",
       "       108.98486 , 114.31745 , 112.66079 , 113.8436  , 111.54619 ],\n",
       "      dtype=float32)"
      ]
     },
     "execution_count": 79,
     "metadata": {},
     "output_type": "execute_result"
    }
   ],
   "source": [
    "y_pred"
   ]
  },
  {
   "cell_type": "code",
   "execution_count": null,
   "metadata": {},
   "outputs": [],
   "source": []
  }
 ],
 "metadata": {
  "kernelspec": {
   "display_name": "Python 3",
   "language": "python",
   "name": "python3"
  },
  "language_info": {
   "codemirror_mode": {
    "name": "ipython",
    "version": 3
   },
   "file_extension": ".py",
   "mimetype": "text/x-python",
   "name": "python",
   "nbconvert_exporter": "python",
   "pygments_lexer": "ipython3",
   "version": "3.6.3"
  }
 },
 "nbformat": 4,
 "nbformat_minor": 2
}
