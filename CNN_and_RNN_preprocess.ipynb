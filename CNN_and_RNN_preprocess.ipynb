{
 "cells": [
  {
   "cell_type": "markdown",
   "metadata": {},
   "source": [
    "https://www.esrl.noaa.gov/psd/data/gridded/data.ncep.reanalysis.surface.html"
   ]
  },
  {
   "cell_type": "code",
   "execution_count": 1,
   "metadata": {},
   "outputs": [],
   "source": [
    "import numpy as np\n",
    "import pandas as pd\n",
    "from netCDF4 import Dataset\n",
    "import datetime\n",
    "from sklearn.preprocessing import MinMaxScaler\n",
    "scaler = MinMaxScaler()"
   ]
  },
  {
   "cell_type": "code",
   "execution_count": 7,
   "metadata": {},
   "outputs": [],
   "source": [
    "df = pd.read_csv(\"C:/Users/zdunkerton/Documents/GitHubData/Hurricane/atlantic.csv\")\n",
    "df = df.loc[df[\"Date\"]>19500000]\n",
    "storms = df['ID'].unique()\n",
    "labels = []\n",
    "for id in storms:\n",
    "    storm = df.loc[df[\"ID\"]== id]\n",
    "    max_wind = storm[\"Maximum Wind\"].max()\n",
    "    if max_wind < 33:\n",
    "        labels.append(0)\n",
    "    elif max_wind >= 33 and max_wind < 63:\n",
    "        labels.append(1)\n",
    "    elif max_wind >= 63 and max_wind < 95:\n",
    "        labels.append(2)\n",
    "    elif max_wind >= 95:\n",
    "        labels.append(3)"
   ]
  },
  {
   "cell_type": "code",
   "execution_count": 8,
   "metadata": {},
   "outputs": [
    {
     "name": "stdout",
     "output_type": "stream",
     "text": [
      "242\n",
      "351\n",
      "227\n",
      "188\n"
     ]
    }
   ],
   "source": [
    "zero = 0\n",
    "one = 0\n",
    "two = 0\n",
    "three = 0\n",
    "for x in labels:\n",
    "    if x == 0:\n",
    "        zero +=1\n",
    "    elif x ==1:\n",
    "        one +=1\n",
    "    elif x ==2:\n",
    "        two +=1\n",
    "    elif x ==3:\n",
    "        three +=1\n",
    "print(zero)\n",
    "print(one)\n",
    "print(two)\n",
    "print(three)"
   ]
  },
  {
   "cell_type": "code",
   "execution_count": 19,
   "metadata": {},
   "outputs": [
    {
     "data": {
      "text/plain": [
       "(1008, 120)"
      ]
     },
     "execution_count": 19,
     "metadata": {},
     "output_type": "execute_result"
    }
   ],
   "source": [
    "df = pd.read_csv(\"C:/Users/zdunkerton/Documents/GitHubData/Hurricane/atlantic.csv\")\n",
    "df = df.loc[df[\"Date\"]>19500000]\n",
    "ids = df['ID'].unique()\n",
    "storms = []\n",
    "for x in ids:\n",
    "    current_storm = []\n",
    "    storm = df.loc[df[\"ID\"]==x]\n",
    "    date = storm[\"Date\"].values\n",
    "    time = storm[\"Time\"].values\n",
    "    i = 0\n",
    "    date1 = datetime.datetime(1800,1,1,0,0)\n",
    "    hurricane_times = []\n",
    "    while i<len(date):\n",
    "        the_time = time[i]\n",
    "        the_date = str(date[i])\n",
    "        if (the_time !=0) and (the_time !=600) and (the_time !=1200) and (the_time !=1800):\n",
    "            if the_time <=900:\n",
    "                time[i] = 600\n",
    "            elif (the_time >900) and (the_time<=1500):\n",
    "                time[i] = 1200\n",
    "            elif the_time >1500:\n",
    "                time[i] = 1800\n",
    "        hurricane_time = datetime.datetime(int(the_date[:4]), int(the_date[4:6]),int(the_date[6:8]),int(time[i]/100))\n",
    "        converted_time = (hurricane_time-date1).total_seconds()/3600\n",
    "        current_storm.append(converted_time)\n",
    "        i+=1\n",
    "    while i <120:\n",
    "        current_storm.append(current_storm[0]-6)\n",
    "        current_storm = sorted(current_storm)\n",
    "        i+=1\n",
    "    storms.append(current_storm)\n",
    "storms = np.array(storms)\n",
    "storms.shape"
   ]
  },
  {
   "cell_type": "code",
   "execution_count": null,
   "metadata": {},
   "outputs": [],
   "source": []
  }
 ],
 "metadata": {
  "kernelspec": {
   "display_name": "Python 3",
   "language": "python",
   "name": "python3"
  },
  "language_info": {
   "codemirror_mode": {
    "name": "ipython",
    "version": 3
   },
   "file_extension": ".py",
   "mimetype": "text/x-python",
   "name": "python",
   "nbconvert_exporter": "python",
   "pygments_lexer": "ipython3",
   "version": "3.6.3"
  }
 },
 "nbformat": 4,
 "nbformat_minor": 2
}
